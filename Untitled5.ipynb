{
  "nbformat": 4,
  "nbformat_minor": 0,
  "metadata": {
    "colab": {
      "name": "Untitled5.ipynb",
      "provenance": [],
      "authorship_tag": "ABX9TyN1ort31mjd5AybCr+lg8+u",
      "include_colab_link": true
    },
    "kernelspec": {
      "name": "python3",
      "display_name": "Python 3"
    },
    "language_info": {
      "name": "python"
    }
  },
  "cells": [
    {
      "cell_type": "markdown",
      "metadata": {
        "id": "view-in-github",
        "colab_type": "text"
      },
      "source": [
        "<a href=\"https://colab.research.google.com/github/kimjisung123/-/blob/main/Untitled5.ipynb\" target=\"_parent\"><img src=\"https://colab.research.google.com/assets/colab-badge.svg\" alt=\"Open In Colab\"/></a>"
      ]
    },
    {
      "cell_type": "code",
      "execution_count": 1,
      "metadata": {
        "colab": {
          "base_uri": "https://localhost:8080/"
        },
        "id": "YyWSMMYHI_-a",
        "outputId": "8cd2eeec-cc73-47e6-841d-755cc2d0666d"
      },
      "outputs": [
        {
          "output_type": "stream",
          "name": "stdout",
          "text": [
            "500000\n"
          ]
        }
      ],
      "source": [
        "삼성전자=50000\n",
        "print(삼성전자 * 10)"
      ]
    },
    {
      "cell_type": "code",
      "source": [
        "year = \"2022\"\n",
        "print(int(year))\n",
        "print(year[0:3]+'1')\n",
        "print(year[0:3]+'2')"
      ],
      "metadata": {
        "colab": {
          "base_uri": "https://localhost:8080/"
        },
        "id": "hEcScGYJNU6o",
        "outputId": "f071f372-1cae-4fb6-ef9c-a65f7083d6c4"
      },
      "execution_count": 58,
      "outputs": [
        {
          "output_type": "stream",
          "name": "stdout",
          "text": [
            "2022\n",
            "2021\n",
            "2022\n"
          ]
        }
      ]
    },
    {
      "cell_type": "code",
      "source": [
        "string = \"홀짝홀짝홀짝\"\n",
        "print(string[0]+string[2]+string[4])"
      ],
      "metadata": {
        "colab": {
          "base_uri": "https://localhost:8080/"
        },
        "id": "4-Whid1bOX11",
        "outputId": "3b7e6e5c-c667-4b15-97bc-540ef8376971"
      },
      "execution_count": 18,
      "outputs": [
        {
          "output_type": "stream",
          "name": "stdout",
          "text": [
            "홀홀홀\n"
          ]
        }
      ]
    },
    {
      "cell_type": "code",
      "source": [
        "string =\"PYTHON\"\n",
        "print(string[5]+string[4]+string[3]+string[2]+string[1]+string[0])"
      ],
      "metadata": {
        "colab": {
          "base_uri": "https://localhost:8080/"
        },
        "id": "GKlj0Pp4O5VR",
        "outputId": "d92d7d8b-dbf6-439a-ddbb-d1bbd97d7327"
      },
      "execution_count": 19,
      "outputs": [
        {
          "output_type": "stream",
          "name": "stdout",
          "text": [
            "NOHTYP\n"
          ]
        }
      ]
    },
    {
      "cell_type": "code",
      "source": [
        "movie_rank = ['닥터 스트렌인지','스플릿','럭키','배트맨']\n",
        "movie_rank[1]=\"슈퍼맨\"\n",
        "print(movie_rank)"
      ],
      "metadata": {
        "colab": {
          "base_uri": "https://localhost:8080/"
        },
        "id": "Vrig54TeP_29",
        "outputId": "207fe3fc-0ec3-4c98-bd69-9bc0d1bc7460"
      },
      "execution_count": 22,
      "outputs": [
        {
          "output_type": "stream",
          "name": "stdout",
          "text": [
            "['닥터 스트렌인지', '슈퍼맨', '럭키', '배트맨']\n"
          ]
        }
      ]
    },
    {
      "cell_type": "code",
      "source": [
        "nums = [1,2,3,4,5,6,7,8,9,10]\n",
        "list(range(1,10,2))"
      ],
      "metadata": {
        "colab": {
          "base_uri": "https://localhost:8080/"
        },
        "id": "W8E0R96LRiiW",
        "outputId": "9ad09ce2-e14b-4cf2-9bd5-e5467a6da7d9"
      },
      "execution_count": 30,
      "outputs": [
        {
          "output_type": "execute_result",
          "data": {
            "text/plain": [
              "[1, 3, 5, 7, 9]"
            ]
          },
          "metadata": {},
          "execution_count": 30
        }
      ]
    },
    {
      "cell_type": "code",
      "source": [
        "data = [2,4,3,1,5,10,9]\n",
        "data.sort()\n",
        "print(data)"
      ],
      "metadata": {
        "colab": {
          "base_uri": "https://localhost:8080/"
        },
        "id": "CPx6MoxkSb0f",
        "outputId": "3e18666e-ea3b-403f-89c3-3e7e6d789cae"
      },
      "execution_count": 40,
      "outputs": [
        {
          "output_type": "stream",
          "name": "stdout",
          "text": [
            "[1, 2, 3, 4, 5, 9, 10]\n"
          ]
        }
      ]
    },
    {
      "cell_type": "code",
      "source": [
        "name1 = \"김민수\"\n",
        "age1 = 10\n",
        "name2 = \"이철희\"\n",
        "age2 = 13\n",
        "print(\"이름: {name1} 나이:{age1}\".format(name1 = \"김민수\",age1 = \"10\"))\n",
        "print(\"이름: {name1} 나이:{age1}\".format(name1 = \"이철희\",age1 = \"13\"))"
      ],
      "metadata": {
        "colab": {
          "base_uri": "https://localhost:8080/"
        },
        "id": "44l4C156TFLA",
        "outputId": "eb954c4d-0836-45c6-9c32-39e2de8bb585"
      },
      "execution_count": 119,
      "outputs": [
        {
          "output_type": "stream",
          "name": "stdout",
          "text": [
            "이름: 김민수 나이:10\n",
            "이름: 이철희 나이:13\n"
          ]
        }
      ]
    },
    {
      "cell_type": "code",
      "source": [
        ""
      ],
      "metadata": {
        "id": "as-fpaUnbSao"
      },
      "execution_count": null,
      "outputs": []
    }
  ]
}